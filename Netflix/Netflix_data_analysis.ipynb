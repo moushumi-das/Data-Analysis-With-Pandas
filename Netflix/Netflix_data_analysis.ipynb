{
 "cells": [
  {
   "cell_type": "markdown",
   "metadata": {},
   "source": [
    "#                 Data Analysis of Netflix Contents"
   ]
  },
  {
   "cell_type": "markdown",
   "metadata": {},
   "source": [
    "####  In this notebook I am going to try explore the data I have and going to answer questions like:\n",
    "\n",
    " - What are the percentage of different content types on Netflix\n",
    " - What is the number of contents added over the years on Netflix\n",
    " - What are the user ratings on Netflix contents\n",
    " - Which country released highest number of contents.\n",
    " - What is the average length of movies\n",
    " - What combination of countries  and content types are most common?\n",
    " - What are the oldest TV Shows  and Movies on Netflix.\n",
    " - Which director made how many movies in each release_year\n"
   ]
  },
  {
   "cell_type": "markdown",
   "metadata": {},
   "source": [
    "### Importing the required libraries"
   ]
  },
  {
   "cell_type": "code",
   "execution_count": 94,
   "metadata": {},
   "outputs": [],
   "source": [
    "import pandas as pd \n",
    "import numpy as np \n",
    "pd.plotting.register_matplotlib_converters()\n",
    "#%matplotlib notebook\n",
    "import matplotlib.pyplot as plt\n",
    "%matplotlib inline\n",
    "import seaborn as sns\n"
   ]
  },
  {
   "cell_type": "markdown",
   "metadata": {},
   "source": [
    "### Loading dataset "
   ]
  },
  {
   "cell_type": "code",
   "execution_count": 95,
   "metadata": {},
   "outputs": [
    {
     "data": {
      "text/html": [
       "<div>\n",
       "<style scoped>\n",
       "    .dataframe tbody tr th:only-of-type {\n",
       "        vertical-align: middle;\n",
       "    }\n",
       "\n",
       "    .dataframe tbody tr th {\n",
       "        vertical-align: top;\n",
       "    }\n",
       "\n",
       "    .dataframe thead th {\n",
       "        text-align: right;\n",
       "    }\n",
       "</style>\n",
       "<table border=\"1\" class=\"dataframe\">\n",
       "  <thead>\n",
       "    <tr style=\"text-align: right;\">\n",
       "      <th></th>\n",
       "      <th>show_id</th>\n",
       "      <th>type</th>\n",
       "      <th>title</th>\n",
       "      <th>director</th>\n",
       "      <th>cast</th>\n",
       "      <th>country</th>\n",
       "      <th>date_added</th>\n",
       "      <th>release_year</th>\n",
       "      <th>rating</th>\n",
       "      <th>duration</th>\n",
       "      <th>listed_in</th>\n",
       "      <th>description</th>\n",
       "    </tr>\n",
       "  </thead>\n",
       "  <tbody>\n",
       "    <tr>\n",
       "      <th>0</th>\n",
       "      <td>81145628</td>\n",
       "      <td>Movie</td>\n",
       "      <td>Norm of the North: King Sized Adventure</td>\n",
       "      <td>Richard Finn, Tim Maltby</td>\n",
       "      <td>Alan Marriott, Andrew Toth, Brian Dobson, Cole...</td>\n",
       "      <td>United States, India, South Korea, China</td>\n",
       "      <td>September 9, 2019</td>\n",
       "      <td>2019</td>\n",
       "      <td>TV-PG</td>\n",
       "      <td>90 min</td>\n",
       "      <td>Children &amp; Family Movies, Comedies</td>\n",
       "      <td>Before planning an awesome wedding for his gra...</td>\n",
       "    </tr>\n",
       "    <tr>\n",
       "      <th>1</th>\n",
       "      <td>80117401</td>\n",
       "      <td>Movie</td>\n",
       "      <td>Jandino: Whatever it Takes</td>\n",
       "      <td>NaN</td>\n",
       "      <td>Jandino Asporaat</td>\n",
       "      <td>United Kingdom</td>\n",
       "      <td>September 9, 2016</td>\n",
       "      <td>2016</td>\n",
       "      <td>TV-MA</td>\n",
       "      <td>94 min</td>\n",
       "      <td>Stand-Up Comedy</td>\n",
       "      <td>Jandino Asporaat riffs on the challenges of ra...</td>\n",
       "    </tr>\n",
       "    <tr>\n",
       "      <th>2</th>\n",
       "      <td>70234439</td>\n",
       "      <td>TV Show</td>\n",
       "      <td>Transformers Prime</td>\n",
       "      <td>NaN</td>\n",
       "      <td>Peter Cullen, Sumalee Montano, Frank Welker, J...</td>\n",
       "      <td>United States</td>\n",
       "      <td>September 8, 2018</td>\n",
       "      <td>2013</td>\n",
       "      <td>TV-Y7-FV</td>\n",
       "      <td>1 Season</td>\n",
       "      <td>Kids' TV</td>\n",
       "      <td>With the help of three human allies, the Autob...</td>\n",
       "    </tr>\n",
       "    <tr>\n",
       "      <th>3</th>\n",
       "      <td>80058654</td>\n",
       "      <td>TV Show</td>\n",
       "      <td>Transformers: Robots in Disguise</td>\n",
       "      <td>NaN</td>\n",
       "      <td>Will Friedle, Darren Criss, Constance Zimmer, ...</td>\n",
       "      <td>United States</td>\n",
       "      <td>September 8, 2018</td>\n",
       "      <td>2016</td>\n",
       "      <td>TV-Y7</td>\n",
       "      <td>1 Season</td>\n",
       "      <td>Kids' TV</td>\n",
       "      <td>When a prison ship crash unleashes hundreds of...</td>\n",
       "    </tr>\n",
       "    <tr>\n",
       "      <th>4</th>\n",
       "      <td>80125979</td>\n",
       "      <td>Movie</td>\n",
       "      <td>#realityhigh</td>\n",
       "      <td>Fernando Lebrija</td>\n",
       "      <td>Nesta Cooper, Kate Walsh, John Michael Higgins...</td>\n",
       "      <td>United States</td>\n",
       "      <td>September 8, 2017</td>\n",
       "      <td>2017</td>\n",
       "      <td>TV-14</td>\n",
       "      <td>99 min</td>\n",
       "      <td>Comedies</td>\n",
       "      <td>When nerdy high schooler Dani finally attracts...</td>\n",
       "    </tr>\n",
       "  </tbody>\n",
       "</table>\n",
       "</div>"
      ],
      "text/plain": [
       "    show_id     type                                    title  \\\n",
       "0  81145628    Movie  Norm of the North: King Sized Adventure   \n",
       "1  80117401    Movie               Jandino: Whatever it Takes   \n",
       "2  70234439  TV Show                       Transformers Prime   \n",
       "3  80058654  TV Show         Transformers: Robots in Disguise   \n",
       "4  80125979    Movie                             #realityhigh   \n",
       "\n",
       "                   director  \\\n",
       "0  Richard Finn, Tim Maltby   \n",
       "1                       NaN   \n",
       "2                       NaN   \n",
       "3                       NaN   \n",
       "4          Fernando Lebrija   \n",
       "\n",
       "                                                cast  \\\n",
       "0  Alan Marriott, Andrew Toth, Brian Dobson, Cole...   \n",
       "1                                   Jandino Asporaat   \n",
       "2  Peter Cullen, Sumalee Montano, Frank Welker, J...   \n",
       "3  Will Friedle, Darren Criss, Constance Zimmer, ...   \n",
       "4  Nesta Cooper, Kate Walsh, John Michael Higgins...   \n",
       "\n",
       "                                    country         date_added  release_year  \\\n",
       "0  United States, India, South Korea, China  September 9, 2019          2019   \n",
       "1                            United Kingdom  September 9, 2016          2016   \n",
       "2                             United States  September 8, 2018          2013   \n",
       "3                             United States  September 8, 2018          2016   \n",
       "4                             United States  September 8, 2017          2017   \n",
       "\n",
       "     rating  duration                           listed_in  \\\n",
       "0     TV-PG    90 min  Children & Family Movies, Comedies   \n",
       "1     TV-MA    94 min                     Stand-Up Comedy   \n",
       "2  TV-Y7-FV  1 Season                            Kids' TV   \n",
       "3     TV-Y7  1 Season                            Kids' TV   \n",
       "4     TV-14    99 min                            Comedies   \n",
       "\n",
       "                                         description  \n",
       "0  Before planning an awesome wedding for his gra...  \n",
       "1  Jandino Asporaat riffs on the challenges of ra...  \n",
       "2  With the help of three human allies, the Autob...  \n",
       "3  When a prison ship crash unleashes hundreds of...  \n",
       "4  When nerdy high schooler Dani finally attracts...  "
      ]
     },
     "execution_count": 95,
     "metadata": {},
     "output_type": "execute_result"
    }
   ],
   "source": [
    "netflix_data=pd.read_csv('netflix_titles.csv')\n",
    "netflix_data.head()"
   ]
  },
  {
   "cell_type": "code",
   "execution_count": 96,
   "metadata": {},
   "outputs": [
    {
     "data": {
      "text/plain": [
       "Index(['show_id', 'type', 'title', 'director', 'cast', 'country', 'date_added',\n",
       "       'release_year', 'rating', 'duration', 'listed_in', 'description'],\n",
       "      dtype='object')"
      ]
     },
     "execution_count": 96,
     "metadata": {},
     "output_type": "execute_result"
    }
   ],
   "source": [
    "# List of columns in dataset\n",
    "\n",
    "netflix_data.columns"
   ]
  },
  {
   "cell_type": "code",
   "execution_count": 97,
   "metadata": {},
   "outputs": [
    {
     "data": {
      "text/plain": [
       "(6234, 12)"
      ]
     },
     "execution_count": 97,
     "metadata": {},
     "output_type": "execute_result"
    }
   ],
   "source": [
    "# Number of columns and rows in the dataset\n",
    "\n",
    "netflix_data.shape"
   ]
  },
  {
   "cell_type": "code",
   "execution_count": 98,
   "metadata": {},
   "outputs": [
    {
     "data": {
      "text/html": [
       "<div>\n",
       "<style scoped>\n",
       "    .dataframe tbody tr th:only-of-type {\n",
       "        vertical-align: middle;\n",
       "    }\n",
       "\n",
       "    .dataframe tbody tr th {\n",
       "        vertical-align: top;\n",
       "    }\n",
       "\n",
       "    .dataframe thead th {\n",
       "        text-align: right;\n",
       "    }\n",
       "</style>\n",
       "<table border=\"1\" class=\"dataframe\">\n",
       "  <thead>\n",
       "    <tr style=\"text-align: right;\">\n",
       "      <th></th>\n",
       "      <th>show_id</th>\n",
       "      <th>release_year</th>\n",
       "    </tr>\n",
       "  </thead>\n",
       "  <tbody>\n",
       "    <tr>\n",
       "      <th>count</th>\n",
       "      <td>6.234000e+03</td>\n",
       "      <td>6234.00000</td>\n",
       "    </tr>\n",
       "    <tr>\n",
       "      <th>mean</th>\n",
       "      <td>7.670368e+07</td>\n",
       "      <td>2013.35932</td>\n",
       "    </tr>\n",
       "    <tr>\n",
       "      <th>std</th>\n",
       "      <td>1.094296e+07</td>\n",
       "      <td>8.81162</td>\n",
       "    </tr>\n",
       "    <tr>\n",
       "      <th>min</th>\n",
       "      <td>2.477470e+05</td>\n",
       "      <td>1925.00000</td>\n",
       "    </tr>\n",
       "    <tr>\n",
       "      <th>25%</th>\n",
       "      <td>8.003580e+07</td>\n",
       "      <td>2013.00000</td>\n",
       "    </tr>\n",
       "    <tr>\n",
       "      <th>50%</th>\n",
       "      <td>8.016337e+07</td>\n",
       "      <td>2016.00000</td>\n",
       "    </tr>\n",
       "    <tr>\n",
       "      <th>75%</th>\n",
       "      <td>8.024489e+07</td>\n",
       "      <td>2018.00000</td>\n",
       "    </tr>\n",
       "    <tr>\n",
       "      <th>max</th>\n",
       "      <td>8.123573e+07</td>\n",
       "      <td>2020.00000</td>\n",
       "    </tr>\n",
       "  </tbody>\n",
       "</table>\n",
       "</div>"
      ],
      "text/plain": [
       "            show_id  release_year\n",
       "count  6.234000e+03    6234.00000\n",
       "mean   7.670368e+07    2013.35932\n",
       "std    1.094296e+07       8.81162\n",
       "min    2.477470e+05    1925.00000\n",
       "25%    8.003580e+07    2013.00000\n",
       "50%    8.016337e+07    2016.00000\n",
       "75%    8.024489e+07    2018.00000\n",
       "max    8.123573e+07    2020.00000"
      ]
     },
     "execution_count": 98,
     "metadata": {},
     "output_type": "execute_result"
    }
   ],
   "source": [
    "#summary statistics\n",
    "\n",
    "netflix_data.describe() "
   ]
  },
  {
   "cell_type": "markdown",
   "metadata": {},
   "source": [
    "### Null values"
   ]
  },
  {
   "cell_type": "code",
   "execution_count": 99,
   "metadata": {},
   "outputs": [
    {
     "data": {
      "text/plain": [
       "<matplotlib.axes._subplots.AxesSubplot at 0x1bff9af5d48>"
      ]
     },
     "execution_count": 99,
     "metadata": {},
     "output_type": "execute_result"
    },
    {
     "data": {
      "image/png": "[encoded data removed]",
      "text/plain": [
       "<Figure size 864x432 with 2 Axes>"
      ]
     },
     "metadata": {
      "needs_background": "light"
     },
     "output_type": "display_data"
    }
   ],
   "source": [
    "plt.figure(figsize=(12,6))\n",
    "sns.heatmap(netflix_data.isnull(),yticklabels=False,cmap=\"viridis\")"
   ]
  },
  {
   "cell_type": "markdown",
   "metadata": {},
   "source": [
    "Roughly 5% of cast and country data are missing. The proportion of missed data are likely small enough for resonable replacement with some form of imputation. On the otherhand, we are missing around 33% of data from director column. "
   ]
  },
  {
   "cell_type": "code",
   "execution_count": 100,
   "metadata": {},
   "outputs": [
    {
     "data": {
      "text/plain": [
       "show_id            0\n",
       "type               0\n",
       "title              0\n",
       "director        1969\n",
       "cast             570\n",
       "country          476\n",
       "date_added        11\n",
       "release_year       0\n",
       "rating            10\n",
       "duration           0\n",
       "listed_in          0\n",
       "description        0\n",
       "dtype: int64"
      ]
     },
     "execution_count": 100,
     "metadata": {},
     "output_type": "execute_result"
    }
   ],
   "source": [
    "# Count the number of missing value in each column\n",
    "\n",
    "netflix_data.isnull().sum()"
   ]
  },
  {
   "cell_type": "markdown",
   "metadata": {},
   "source": [
    "###  Data Cleaning"
   ]
  },
  {
   "cell_type": "code",
   "execution_count": 101,
   "metadata": {},
   "outputs": [],
   "source": [
    "# parsing the date_added column \n",
    "netflix_data[\"date_added\"] = pd.to_datetime(netflix_data['date_added'])\n",
    "netflix_data['year_added'] = netflix_data['date_added'].dt.year\n",
    "netflix_data['month_added'] = netflix_data['date_added'].dt.month\n"
   ]
  },
  {
   "cell_type": "code",
   "execution_count": 102,
   "metadata": {},
   "outputs": [],
   "source": [
    "# Splitting the duration column into season_count and duration_2 columns\n",
    "\n",
    "netflix_data['duration_2'] =     netflix_data.apply(lambda x : float(x['duration'].split(\" \")[0]) if \"Season\" not in x['duration'] else \"\", axis = 1)\n",
    "netflix_data['season_count'] = netflix_data.apply(lambda x : x['duration'].split(\" \")[0] if \"Season\" in x['duration'] else \"\", axis = 1)\n"
   ]
  },
  {
   "cell_type": "markdown",
   "metadata": {},
   "source": [
    "### Data Visualization"
   ]
  },
  {
   "cell_type": "code",
   "execution_count": 119,
   "metadata": {},
   "outputs": [
    {
     "data": {
      "text/plain": [
       "<Figure size 864x432 with 0 Axes>"
      ]
     },
     "metadata": {},
     "output_type": "display_data"
    },
    {
     "data": {
      "image/png": "[encoded data removed]",
      "text/plain": [
       "<Figure size 432x288 with 1 Axes>"
      ]
     },
     "metadata": {},
     "output_type": "display_data"
    },
    {
     "data": {
      "text/plain": [
       "<Figure size 432x288 with 0 Axes>"
      ]
     },
     "metadata": {},
     "output_type": "display_data"
    }
   ],
   "source": [
    "col = \"type\"\n",
    "grouped = netflix_data[col].value_counts().reset_index()\n",
    "grouped = grouped.rename(columns = {col : \"count\", \"index\" : col})\n",
    "\n",
    "plt.figure(figsize=(12,6))\n",
    "fig1, ax1 = plt.subplots()\n",
    "ax1.pie(grouped['count'], labels=grouped[col], autopct='%1.1f%%',\n",
    "        shadow=True, startangle=90)\n",
    "# Equal aspect ratio ensures that pie is drawn as a circle\n",
    "ax1.axis('equal')  \n",
    "plt.tight_layout()\n",
    "plt.title(\"Type of contents on Netflix\",fontsize=20)\n",
    "plt.show()\n",
    "plt.savefig(\"piechart\")"
   ]
  },
  {
   "cell_type": "markdown",
   "metadata": {},
   "source": [
    " $68.4$% of the netflix content is movies and remaining $31.6$% of them are TV Shows. Netflix contain a wide variety of award-winning TV shows and movies."
   ]
  },
  {
   "cell_type": "code",
   "execution_count": 104,
   "metadata": {},
   "outputs": [
    {
     "data": {
      "text/plain": [
       "Text(0, 0.5, 'Count')"
      ]
     },
     "execution_count": 104,
     "metadata": {},
     "output_type": "execute_result"
    },
    {
     "data": {
      "image/png": "[encoded data removed]",
      "text/plain": [
       "<Figure size 864x432 with 1 Axes>"
      ]
     },
     "metadata": {},
     "output_type": "display_data"
    }
   ],
   "source": [
    "sns.set_style(\"whitegrid\")\n",
    "plt.figure(figsize=(12,6))\n",
    "sns.countplot(\"type\",data=netflix_data)\n",
    "plt.title(\"Type of contents on Netflix\",fontsize=20)\n",
    "plt.xlabel(\"Type\",fontsize=15)\n",
    "plt.ylabel(\"Count\",fontsize=15)"
   ]
  },
  {
   "cell_type": "markdown",
   "metadata": {},
   "source": [
    "\n",
    "### Netflix ratings"
   ]
  },
  {
   "cell_type": "code",
   "execution_count": 128,
   "metadata": {},
   "outputs": [
    {
     "data": {
      "image/png": "[encoded data removed]",
      "text/plain": [
       "<Figure size 1008x504 with 1 Axes>"
      ]
     },
     "metadata": {},
     "output_type": "display_data"
    }
   ],
   "source": [
    "plt.figure(figsize=(14,7))\n",
    "plt.title(\"User ratings on Netflix contents\",fontsize=20)\n",
    "sns.countplot(\"rating\",hue=\"type\",data=netflix_data)\n",
    "plt.yticks(fontsize=12)\n",
    "plt.xticks(fontsize=12)\n",
    "plt.ylabel(\"Count\",fontsize=15)\n",
    "plt.xlabel(\"Netflix Rating\",fontsize=15)\n",
    "plt.savefig(\"rating\")"
   ]
  },
  {
   "cell_type": "markdown",
   "metadata": {},
   "source": [
    "The largest number of netflix contents are made with the 'TV-MA' rating. \"TV-MA\",R, NC-17 are the ratings assigned by the TV Parental Guidelines to television programs that were designed for adult audiences only.The films that fallen under those category may contain materials which are inappropiate for children under the age of 17.\n",
    "\n",
    "The second largest content category in netflix are made with the 'TV-14' rating. The netflix contents comes with PG-13, TV-14 rating are fallen under Teen category.\n",
    "\n",
    "\n",
    "Third largest is the very popular 'R' rating. The Motion Picture Association of America; the MPAA writes \"Under 17 requires accompanying parent or adult guardian\". Movies/TV shows comes with TV-Y, TV-Y7, G, TV-G, PG, TV-PG ratings are fallen under kids category. "
   ]
  },
  {
   "cell_type": "markdown",
   "metadata": {},
   "source": [
    "### Which country released highest number of contents."
   ]
  },
  {
   "cell_type": "code",
   "execution_count": 106,
   "metadata": {},
   "outputs": [
    {
     "data": {
      "text/plain": [
       "(array([   0.,  250.,  500.,  750., 1000., 1250., 1500., 1750., 2000.,\n",
       "        2250.]),\n",
       " <a list of 10 Text xticklabel objects>)"
      ]
     },
     "execution_count": 106,
     "metadata": {},
     "output_type": "execute_result"
    },
    {
     "data": {
      "image/png": "[encoded data removed]",
      "text/plain": [
       "<Figure size 864x504 with 1 Axes>"
      ]
     },
     "metadata": {},
     "output_type": "display_data"
    }
   ],
   "source": [
    "plt.figure(figsize=(12,7))\n",
    "plt.title(\"Top 15 countries with highest number of contents\",fontsize=18)\n",
    "top_countries=netflix_data.country.value_counts()\n",
    "top_countries=top_countries[:15]\n",
    "sns.barplot(x=top_countries.values,y=top_countries[:15].index)\n",
    "plt.yticks(fontsize=15)\n",
    "plt.xticks(fontsize=15)"
   ]
  },
  {
   "cell_type": "markdown",
   "metadata": {},
   "source": [
    "United States has highest number of contents on Netflix. Around 2000 contents are streaming on Netflix which are made by USA. Second-most number of contents are from India. Number of Indian movies/TV Shows are approximately one-third of USA. On the otherside China, Egypt and Hong kong has fewest number of contents."
   ]
  },
  {
   "cell_type": "markdown",
   "metadata": {},
   "source": [
    "### What combination of countries  and content types are most common?"
   ]
  },
  {
   "cell_type": "code",
   "execution_count": 107,
   "metadata": {},
   "outputs": [
    {
     "data": {
      "text/plain": [
       "country                                 type   \n",
       "United States                           Movie      1482\n",
       "India                                   Movie       724\n",
       "United States                           TV Show     550\n",
       "United Kingdom                          TV Show     178\n",
       "                                        Movie       170\n",
       "                                                   ... \n",
       "Netherlands, Germany, Italy, Canada     TV Show       1\n",
       "Netherlands, United States              Movie         1\n",
       "New Zealand, United Kingdom             Movie         1\n",
       "New Zealand, United Kingdom, Australia  Movie         1\n",
       "West Germany                            Movie         1\n",
       "Name: type, Length: 636, dtype: int64"
      ]
     },
     "execution_count": 107,
     "metadata": {},
     "output_type": "execute_result"
    }
   ],
   "source": [
    "country_type_counts=netflix_data.groupby([\"country\",\"type\"]).type.count().sort_values(ascending=False)\n",
    "country_type_counts"
   ]
  },
  {
   "cell_type": "markdown",
   "metadata": {},
   "source": [
    "### Number of contents added in last 20 years"
   ]
  },
  {
   "cell_type": "code",
   "execution_count": 108,
   "metadata": {},
   "outputs": [
    {
     "data": {
      "text/plain": [
       "(array([ 0,  1,  2,  3,  4,  5,  6,  7,  8,  9, 10, 11, 12, 13, 14, 15, 16,\n",
       "        17, 18, 19]),\n",
       " <a list of 20 Text xticklabel objects>)"
      ]
     },
     "execution_count": 108,
     "metadata": {},
     "output_type": "execute_result"
    },
    {
     "data": {
      "image/png": "[encoded data removed]",
      "text/plain": [
       "<Figure size 864x504 with 1 Axes>"
      ]
     },
     "metadata": {},
     "output_type": "display_data"
    }
   ],
   "source": [
    "plt.figure(figsize=(12,7))\n",
    "plt.title(\"Number of contents added in last 20 years\",fontsize=18)\n",
    "\n",
    "top_countries=netflix_data.release_year.value_counts()\n",
    "top_countries=top_countries[:20]\n",
    "sns.barplot(y=top_countries.values,x=top_countries.index)\n",
    "plt.yticks(fontsize=13)\n",
    "plt.xticks(fontsize=13)"
   ]
  },
  {
   "cell_type": "markdown",
   "metadata": {},
   "source": [
    "Number of content on Netflix has increased significantly in last 5 years.Its a sign that netflix popularity is increasing day by day. There's always new TV shows and movies are being added every month. From the it can be seen that in 2014 the number of contents was around 500. From 2015 to 2018 the number doubled."
   ]
  },
  {
   "cell_type": "code",
   "execution_count": 109,
   "metadata": {},
   "outputs": [
    {
     "data": {
      "text/plain": [
       "Text(0.5, 0, 'Type')"
      ]
     },
     "execution_count": 109,
     "metadata": {},
     "output_type": "execute_result"
    },
    {
     "data": {
      "image/png": "[encoded data removed]",
      "text/plain": [
       "<Figure size 864x504 with 1 Axes>"
      ]
     },
     "metadata": {},
     "output_type": "display_data"
    }
   ],
   "source": [
    "col = \"year_added\"\n",
    "\n",
    "#TV_Show_counts = netflix_data[netflix_data[\"type\"] == \"TV Show\"].year_added.value_counts().reset_index()\n",
    "TV_Show_counts = netflix_data[netflix_data[\"type\"] == \"TV Show\"][col].value_counts().reset_index()\n",
    "TV_Show_counts= TV_Show_counts.rename(columns = {col : \"count\", \"index\" : col})\n",
    "TV_Show_counts = TV_Show_counts.sort_values(col)\n",
    "\n",
    "Movie_counts = netflix_data[netflix_data[\"type\"] == \"Movie\"][col].value_counts().reset_index()\n",
    "Movie_counts = Movie_counts.rename(columns = {col : \"count\", \"index\" : col})\n",
    "Movie_counts = Movie_counts.sort_values(col)\n",
    "\n",
    "plt.figure(figsize=(12,7))\n",
    "plt.title(\"Contents added over the years on Netflix\",fontsize=20)\n",
    "sns.scatterplot(x=Movie_counts[col][:-1], y=Movie_counts[\"count\"])\n",
    "sns.scatterplot(x=TV_Show_counts[col][:-1], y=TV_Show_counts[\"count\"])\n",
    "plt.legend(labels=['Movie_counts', 'TV_Show_counts'],fontsize=15)\n",
    "plt.yticks(fontsize=13)\n",
    "plt.xticks(fontsize=13)\n",
    "plt.ylabel(\"Count\",fontsize=15)\n",
    "plt.xlabel(\"Type\",fontsize=15)"
   ]
  },
  {
   "cell_type": "markdown",
   "metadata": {},
   "source": [
    "It clear from the graph that between 2008 and 2015 the number of movies and tv shows on netflix were almost same. In 2015 it was about 100. From 2016 there was a sharp increase in available number of movies on netflix. In 2018 the number doubled. The number of TV shows also increases over the years."
   ]
  },
  {
   "cell_type": "markdown",
   "metadata": {},
   "source": [
    "### Distribution plot of movie duration"
   ]
  },
  {
   "cell_type": "code",
   "execution_count": 110,
   "metadata": {},
   "outputs": [
    {
     "data": {
      "text/plain": [
       "Text(0.5, 0, 'Movie duration in minutes')"
      ]
     },
     "execution_count": 110,
     "metadata": {},
     "output_type": "execute_result"
    },
    {
     "data": {
      "image/png": "[encoded data removed]",
      "text/plain": [
       "<Figure size 864x432 with 1 Axes>"
      ]
     },
     "metadata": {},
     "output_type": "display_data"
    }
   ],
   "source": [
    "# Normal distribution of movie duration\n",
    "Movie_duration =  netflix_data[netflix_data[\"type\"] == \"Movie\"]['duration_2'].fillna(0.0)\n",
    "plt.figure(figsize=(12,6))\n",
    "plt.title('  Distribution plot of movie duration',fontsize=18)\n",
    "\n",
    "sns.distplot(Movie_duration)\n",
    "plt.xlabel(\"Movie duration in minutes\",fontsize=15)"
   ]
  },
  {
   "cell_type": "markdown",
   "metadata": {},
   "source": [
    "The distribution of the duration of movies available on Netflix are appximately symmetric. The avarage movie duration is about 90 minutes."
   ]
  },
  {
   "cell_type": "markdown",
   "metadata": {},
   "source": [
    "### Oldest TV Shows  on Netflix"
   ]
  },
  {
   "cell_type": "code",
   "execution_count": 111,
   "metadata": {},
   "outputs": [
    {
     "data": {
      "text/html": [
       "<div>\n",
       "<style scoped>\n",
       "    .dataframe tbody tr th:only-of-type {\n",
       "        vertical-align: middle;\n",
       "    }\n",
       "\n",
       "    .dataframe tbody tr th {\n",
       "        vertical-align: top;\n",
       "    }\n",
       "\n",
       "    .dataframe thead th {\n",
       "        text-align: right;\n",
       "    }\n",
       "</style>\n",
       "<table border=\"1\" class=\"dataframe\">\n",
       "  <thead>\n",
       "    <tr style=\"text-align: right;\">\n",
       "      <th></th>\n",
       "      <th>title</th>\n",
       "      <th>release_year</th>\n",
       "      <th>listed_in</th>\n",
       "    </tr>\n",
       "  </thead>\n",
       "  <tbody>\n",
       "    <tr>\n",
       "      <th>4292</th>\n",
       "      <td>Pioneers: First Women Filmmakers*</td>\n",
       "      <td>1925</td>\n",
       "      <td>TV Shows</td>\n",
       "    </tr>\n",
       "    <tr>\n",
       "      <th>4079</th>\n",
       "      <td>Pioneers of African-American Cinema</td>\n",
       "      <td>1946</td>\n",
       "      <td>TV Shows</td>\n",
       "    </tr>\n",
       "    <tr>\n",
       "      <th>2761</th>\n",
       "      <td>Bob Ross: Beauty Is Everywhere</td>\n",
       "      <td>1991</td>\n",
       "      <td>TV Shows</td>\n",
       "    </tr>\n",
       "    <tr>\n",
       "      <th>4705</th>\n",
       "      <td>Chill with Bob Ross</td>\n",
       "      <td>1994</td>\n",
       "      <td>TV Shows</td>\n",
       "    </tr>\n",
       "  </tbody>\n",
       "</table>\n",
       "</div>"
      ],
      "text/plain": [
       "                                    title  release_year listed_in\n",
       "4292    Pioneers: First Women Filmmakers*          1925  TV Shows\n",
       "4079  Pioneers of African-American Cinema          1946  TV Shows\n",
       "2761       Bob Ross: Beauty Is Everywhere          1991  TV Shows\n",
       "4705                  Chill with Bob Ross          1994  TV Shows"
      ]
     },
     "execution_count": 111,
     "metadata": {},
     "output_type": "execute_result"
    }
   ],
   "source": [
    "old_TV_show=netflix_data.loc[(netflix_data.listed_in==\"TV Shows\") &  (netflix_data.release_year<2000)].sort_values(by=\"release_year\")[['title', 'release_year', 'listed_in']]\n",
    "old_TV_show"
   ]
  },
  {
   "cell_type": "markdown",
   "metadata": {},
   "source": [
    "### Oldest  Movies on Netflix"
   ]
  },
  {
   "cell_type": "code",
   "execution_count": 112,
   "metadata": {},
   "outputs": [
    {
     "data": {
      "text/html": [
       "<div>\n",
       "<style scoped>\n",
       "    .dataframe tbody tr th:only-of-type {\n",
       "        vertical-align: middle;\n",
       "    }\n",
       "\n",
       "    .dataframe tbody tr th {\n",
       "        vertical-align: top;\n",
       "    }\n",
       "\n",
       "    .dataframe thead th {\n",
       "        text-align: right;\n",
       "    }\n",
       "</style>\n",
       "<table border=\"1\" class=\"dataframe\">\n",
       "  <thead>\n",
       "    <tr style=\"text-align: right;\">\n",
       "      <th></th>\n",
       "      <th>title</th>\n",
       "      <th>release_year</th>\n",
       "      <th>listed_in</th>\n",
       "    </tr>\n",
       "  </thead>\n",
       "  <tbody>\n",
       "    <tr>\n",
       "      <th>2011</th>\n",
       "      <td>Prelude to War</td>\n",
       "      <td>1942</td>\n",
       "      <td>Classic Movies, Documentaries</td>\n",
       "    </tr>\n",
       "    <tr>\n",
       "      <th>2013</th>\n",
       "      <td>The Battle of Midway</td>\n",
       "      <td>1942</td>\n",
       "      <td>Classic Movies, Documentaries</td>\n",
       "    </tr>\n",
       "    <tr>\n",
       "      <th>2026</th>\n",
       "      <td>WWII: Report from the Aleutians</td>\n",
       "      <td>1943</td>\n",
       "      <td>Documentaries</td>\n",
       "    </tr>\n",
       "    <tr>\n",
       "      <th>2023</th>\n",
       "      <td>Why We Fight: The Battle of Russia</td>\n",
       "      <td>1943</td>\n",
       "      <td>Documentaries</td>\n",
       "    </tr>\n",
       "    <tr>\n",
       "      <th>2022</th>\n",
       "      <td>Undercover: How to Operate Behind Enemy Lines</td>\n",
       "      <td>1943</td>\n",
       "      <td>Classic Movies, Documentaries</td>\n",
       "    </tr>\n",
       "    <tr>\n",
       "      <th>...</th>\n",
       "      <td>...</td>\n",
       "      <td>...</td>\n",
       "      <td>...</td>\n",
       "    </tr>\n",
       "    <tr>\n",
       "      <th>3538</th>\n",
       "      <td>Magnolia</td>\n",
       "      <td>1999</td>\n",
       "      <td>Dramas, Independent Movies</td>\n",
       "    </tr>\n",
       "    <tr>\n",
       "      <th>3540</th>\n",
       "      <td>Mansfield Park</td>\n",
       "      <td>1999</td>\n",
       "      <td>Comedies, Dramas, International Movies</td>\n",
       "    </tr>\n",
       "    <tr>\n",
       "      <th>3564</th>\n",
       "      <td>Stuart Little</td>\n",
       "      <td>1999</td>\n",
       "      <td>Children &amp; Family Movies, Comedies</td>\n",
       "    </tr>\n",
       "    <tr>\n",
       "      <th>3483</th>\n",
       "      <td>American Beauty</td>\n",
       "      <td>1999</td>\n",
       "      <td>Dramas</td>\n",
       "    </tr>\n",
       "    <tr>\n",
       "      <th>2555</th>\n",
       "      <td>Tarzan</td>\n",
       "      <td>1999</td>\n",
       "      <td>Children &amp; Family Movies</td>\n",
       "    </tr>\n",
       "  </tbody>\n",
       "</table>\n",
       "<p>337 rows × 3 columns</p>\n",
       "</div>"
      ],
      "text/plain": [
       "                                              title  release_year  \\\n",
       "2011                                 Prelude to War          1942   \n",
       "2013                           The Battle of Midway          1942   \n",
       "2026                WWII: Report from the Aleutians          1943   \n",
       "2023             Why We Fight: The Battle of Russia          1943   \n",
       "2022  Undercover: How to Operate Behind Enemy Lines          1943   \n",
       "...                                             ...           ...   \n",
       "3538                                       Magnolia          1999   \n",
       "3540                                 Mansfield Park          1999   \n",
       "3564                                  Stuart Little          1999   \n",
       "3483                                American Beauty          1999   \n",
       "2555                                         Tarzan          1999   \n",
       "\n",
       "                                   listed_in  \n",
       "2011           Classic Movies, Documentaries  \n",
       "2013           Classic Movies, Documentaries  \n",
       "2026                           Documentaries  \n",
       "2023                           Documentaries  \n",
       "2022           Classic Movies, Documentaries  \n",
       "...                                      ...  \n",
       "3538              Dramas, Independent Movies  \n",
       "3540  Comedies, Dramas, International Movies  \n",
       "3564      Children & Family Movies, Comedies  \n",
       "3483                                  Dramas  \n",
       "2555                Children & Family Movies  \n",
       "\n",
       "[337 rows x 3 columns]"
      ]
     },
     "execution_count": 112,
     "metadata": {},
     "output_type": "execute_result"
    }
   ],
   "source": [
    "old_movie=netflix_data.loc[(netflix_data.type==\"Movie\") &  (netflix_data.release_year<2000)].sort_values(by=\"release_year\")\n",
    "\n",
    "old_movie[['title', 'release_year', 'listed_in']]"
   ]
  },
  {
   "cell_type": "markdown",
   "metadata": {},
   "source": [
    "### Which director made how many movies in each release_year"
   ]
  },
  {
   "cell_type": "code",
   "execution_count": 113,
   "metadata": {},
   "outputs": [
    {
     "data": {
      "text/plain": [
       "director                release_year\n",
       "Raúl Campos, Jan Suter  2018            12\n",
       "Marcus Raboy            2017             6\n",
       "Fernando Ayllón         2019             4\n",
       "S.S. Rajamouli          2015             4\n",
       "Matt Askem              2018             4\n",
       "                                        ..\n",
       "Nitesh Tiwari           2016             1\n",
       "Nishil Sheth            2017             1\n",
       "Nishikant Kamat         2015             1\n",
       "                        2008             1\n",
       "A. L. Vijay             2016             1\n",
       "Length: 4106, dtype: int64"
      ]
     },
     "execution_count": 113,
     "metadata": {},
     "output_type": "execute_result"
    }
   ],
   "source": [
    "dirct_year_counts=netflix_data.groupby([\"director\",\"release_year\"]).size().sort_values(ascending=False)\n",
    "dirct_year_counts"
   ]
  },
  {
   "cell_type": "markdown",
   "metadata": {},
   "source": [
    "### Available Stand up Comedies on Netflix"
   ]
  },
  {
   "cell_type": "code",
   "execution_count": 114,
   "metadata": {},
   "outputs": [
    {
     "data": {
      "text/html": [
       "<div>\n",
       "<style scoped>\n",
       "    .dataframe tbody tr th:only-of-type {\n",
       "        vertical-align: middle;\n",
       "    }\n",
       "\n",
       "    .dataframe tbody tr th {\n",
       "        vertical-align: top;\n",
       "    }\n",
       "\n",
       "    .dataframe thead th {\n",
       "        text-align: right;\n",
       "    }\n",
       "</style>\n",
       "<table border=\"1\" class=\"dataframe\">\n",
       "  <thead>\n",
       "    <tr style=\"text-align: right;\">\n",
       "      <th></th>\n",
       "      <th>title</th>\n",
       "      <th>release_year</th>\n",
       "      <th>listed_in</th>\n",
       "      <th>cast</th>\n",
       "    </tr>\n",
       "  </thead>\n",
       "  <tbody>\n",
       "    <tr>\n",
       "      <th>4714</th>\n",
       "      <td>Richard Pryor: Live in Concert</td>\n",
       "      <td>1979</td>\n",
       "      <td>Stand-Up Comedy</td>\n",
       "      <td>Richard Pryor</td>\n",
       "    </tr>\n",
       "    <tr>\n",
       "      <th>5411</th>\n",
       "      <td>Eddie Murphy: Delirious</td>\n",
       "      <td>1983</td>\n",
       "      <td>Stand-Up Comedy</td>\n",
       "      <td>Eddie Murphy</td>\n",
       "    </tr>\n",
       "    <tr>\n",
       "      <th>4254</th>\n",
       "      <td>Sam Kinison: Breaking the Rules</td>\n",
       "      <td>1987</td>\n",
       "      <td>Stand-Up Comedy</td>\n",
       "      <td>Sam Kinison</td>\n",
       "    </tr>\n",
       "    <tr>\n",
       "      <th>4247</th>\n",
       "      <td>Bill Hicks: Sane Man</td>\n",
       "      <td>1989</td>\n",
       "      <td>Stand-Up Comedy</td>\n",
       "      <td>Bill Hicks</td>\n",
       "    </tr>\n",
       "    <tr>\n",
       "      <th>4263</th>\n",
       "      <td>Tim Allen: Men Are Pigs</td>\n",
       "      <td>1990</td>\n",
       "      <td>Stand-Up Comedy</td>\n",
       "      <td>Tim Allen</td>\n",
       "    </tr>\n",
       "    <tr>\n",
       "      <th>...</th>\n",
       "      <td>...</td>\n",
       "      <td>...</td>\n",
       "      <td>...</td>\n",
       "      <td>...</td>\n",
       "    </tr>\n",
       "    <tr>\n",
       "      <th>4297</th>\n",
       "      <td>Tiffany Haddish: Black Mitzvah</td>\n",
       "      <td>2019</td>\n",
       "      <td>Stand-Up Comedy</td>\n",
       "      <td>Tiffany Haddish</td>\n",
       "    </tr>\n",
       "    <tr>\n",
       "      <th>492</th>\n",
       "      <td>Arsenio Hall: Smart &amp; Classy</td>\n",
       "      <td>2019</td>\n",
       "      <td>Stand-Up Comedy</td>\n",
       "      <td>Arsenio Hall</td>\n",
       "    </tr>\n",
       "    <tr>\n",
       "      <th>4608</th>\n",
       "      <td>Michelle Wolf: Joke Show</td>\n",
       "      <td>2019</td>\n",
       "      <td>Stand-Up Comedy</td>\n",
       "      <td>Michelle Wolf</td>\n",
       "    </tr>\n",
       "    <tr>\n",
       "      <th>2811</th>\n",
       "      <td>Whitney Cummings: Can I Touch It?</td>\n",
       "      <td>2019</td>\n",
       "      <td>Stand-Up Comedy</td>\n",
       "      <td>Whitney Cummings</td>\n",
       "    </tr>\n",
       "    <tr>\n",
       "      <th>3427</th>\n",
       "      <td>Leslie Jones: Time Machine</td>\n",
       "      <td>2020</td>\n",
       "      <td>Stand-Up Comedy</td>\n",
       "      <td>Leslie Jones</td>\n",
       "    </tr>\n",
       "  </tbody>\n",
       "</table>\n",
       "<p>273 rows × 4 columns</p>\n",
       "</div>"
      ],
      "text/plain": [
       "                                  title  release_year        listed_in  \\\n",
       "4714     Richard Pryor: Live in Concert          1979  Stand-Up Comedy   \n",
       "5411            Eddie Murphy: Delirious          1983  Stand-Up Comedy   \n",
       "4254    Sam Kinison: Breaking the Rules          1987  Stand-Up Comedy   \n",
       "4247               Bill Hicks: Sane Man          1989  Stand-Up Comedy   \n",
       "4263            Tim Allen: Men Are Pigs          1990  Stand-Up Comedy   \n",
       "...                                 ...           ...              ...   \n",
       "4297     Tiffany Haddish: Black Mitzvah          2019  Stand-Up Comedy   \n",
       "492        Arsenio Hall: Smart & Classy          2019  Stand-Up Comedy   \n",
       "4608           Michelle Wolf: Joke Show          2019  Stand-Up Comedy   \n",
       "2811  Whitney Cummings: Can I Touch It?          2019  Stand-Up Comedy   \n",
       "3427         Leslie Jones: Time Machine          2020  Stand-Up Comedy   \n",
       "\n",
       "                  cast  \n",
       "4714     Richard Pryor  \n",
       "5411      Eddie Murphy  \n",
       "4254       Sam Kinison  \n",
       "4247        Bill Hicks  \n",
       "4263         Tim Allen  \n",
       "...                ...  \n",
       "4297   Tiffany Haddish  \n",
       "492       Arsenio Hall  \n",
       "4608     Michelle Wolf  \n",
       "2811  Whitney Cummings  \n",
       "3427      Leslie Jones  \n",
       "\n",
       "[273 rows x 4 columns]"
      ]
     },
     "execution_count": 114,
     "metadata": {},
     "output_type": "execute_result"
    }
   ],
   "source": [
    "comedy_content=netflix_data.loc[(netflix_data.listed_in==\"Stand-Up Comedy\")  ].sort_values(by=\"release_year\")\n",
    "comedy_content[['title', 'release_year', 'listed_in','cast']]"
   ]
  },
  {
   "cell_type": "markdown",
   "metadata": {},
   "source": [
    "### Stand-Up Comedy directed by famous director Jay karas "
   ]
  },
  {
   "cell_type": "code",
   "execution_count": 115,
   "metadata": {},
   "outputs": [
    {
     "data": {
      "text/html": [
       "<div>\n",
       "<style scoped>\n",
       "    .dataframe tbody tr th:only-of-type {\n",
       "        vertical-align: middle;\n",
       "    }\n",
       "\n",
       "    .dataframe tbody tr th {\n",
       "        vertical-align: top;\n",
       "    }\n",
       "\n",
       "    .dataframe thead th {\n",
       "        text-align: right;\n",
       "    }\n",
       "</style>\n",
       "<table border=\"1\" class=\"dataframe\">\n",
       "  <thead>\n",
       "    <tr style=\"text-align: right;\">\n",
       "      <th></th>\n",
       "      <th>title</th>\n",
       "      <th>release_year</th>\n",
       "      <th>listed_in</th>\n",
       "    </tr>\n",
       "  </thead>\n",
       "  <tbody>\n",
       "    <tr>\n",
       "      <th>2613</th>\n",
       "      <td>Adam Devine: Best Time of Our Lives</td>\n",
       "      <td>2019</td>\n",
       "      <td>Stand-Up Comedy</td>\n",
       "    </tr>\n",
       "    <tr>\n",
       "      <th>1781</th>\n",
       "      <td>Ali Wong: Hard Knock Wife</td>\n",
       "      <td>2018</td>\n",
       "      <td>Stand-Up Comedy</td>\n",
       "    </tr>\n",
       "    <tr>\n",
       "      <th>2892</th>\n",
       "      <td>Demetri Martin: The Overthinker</td>\n",
       "      <td>2018</td>\n",
       "      <td>Stand-Up Comedy</td>\n",
       "    </tr>\n",
       "    <tr>\n",
       "      <th>3453</th>\n",
       "      <td>Tom Segura: Disgraceful</td>\n",
       "      <td>2018</td>\n",
       "      <td>Stand-Up Comedy</td>\n",
       "    </tr>\n",
       "    <tr>\n",
       "      <th>773</th>\n",
       "      <td>Christina P: Mother Inferior</td>\n",
       "      <td>2017</td>\n",
       "      <td>Stand-Up Comedy</td>\n",
       "    </tr>\n",
       "    <tr>\n",
       "      <th>3237</th>\n",
       "      <td>Bill Burr: Walk Your Way Out</td>\n",
       "      <td>2017</td>\n",
       "      <td>Stand-Up Comedy</td>\n",
       "    </tr>\n",
       "    <tr>\n",
       "      <th>1580</th>\n",
       "      <td>Ali Wong: Baby Cobra</td>\n",
       "      <td>2016</td>\n",
       "      <td>Stand-Up Comedy</td>\n",
       "    </tr>\n",
       "    <tr>\n",
       "      <th>3193</th>\n",
       "      <td>Tom Segura: Mostly Stories</td>\n",
       "      <td>2016</td>\n",
       "      <td>Stand-Up Comedy</td>\n",
       "    </tr>\n",
       "    <tr>\n",
       "      <th>4839</th>\n",
       "      <td>Jeff Foxworthy and Larry the Cable Guy: We’ve ...</td>\n",
       "      <td>2016</td>\n",
       "      <td>Stand-Up Comedy</td>\n",
       "    </tr>\n",
       "    <tr>\n",
       "      <th>620</th>\n",
       "      <td>Anjelah Johnson: Not Fancy</td>\n",
       "      <td>2015</td>\n",
       "      <td>Stand-Up Comedy</td>\n",
       "    </tr>\n",
       "    <tr>\n",
       "      <th>5025</th>\n",
       "      <td>Demetri Martin: Live (At the Time)</td>\n",
       "      <td>2015</td>\n",
       "      <td>Stand-Up Comedy</td>\n",
       "    </tr>\n",
       "    <tr>\n",
       "      <th>4160</th>\n",
       "      <td>Bill Burr: I'm Sorry You Feel That Way</td>\n",
       "      <td>2014</td>\n",
       "      <td>Stand-Up Comedy</td>\n",
       "    </tr>\n",
       "    <tr>\n",
       "      <th>2485</th>\n",
       "      <td>Bill Burr: You People Are All the Same</td>\n",
       "      <td>2012</td>\n",
       "      <td>Stand-Up Comedy</td>\n",
       "    </tr>\n",
       "    <tr>\n",
       "      <th>5040</th>\n",
       "      <td>Jim Gaffigan: Mr. Universe</td>\n",
       "      <td>2012</td>\n",
       "      <td>Stand-Up Comedy</td>\n",
       "    </tr>\n",
       "  </tbody>\n",
       "</table>\n",
       "</div>"
      ],
      "text/plain": [
       "                                                  title  release_year  \\\n",
       "2613                Adam Devine: Best Time of Our Lives          2019   \n",
       "1781                          Ali Wong: Hard Knock Wife          2018   \n",
       "2892                    Demetri Martin: The Overthinker          2018   \n",
       "3453                            Tom Segura: Disgraceful          2018   \n",
       "773                        Christina P: Mother Inferior          2017   \n",
       "3237                       Bill Burr: Walk Your Way Out          2017   \n",
       "1580                               Ali Wong: Baby Cobra          2016   \n",
       "3193                         Tom Segura: Mostly Stories          2016   \n",
       "4839  Jeff Foxworthy and Larry the Cable Guy: We’ve ...          2016   \n",
       "620                          Anjelah Johnson: Not Fancy          2015   \n",
       "5025                 Demetri Martin: Live (At the Time)          2015   \n",
       "4160             Bill Burr: I'm Sorry You Feel That Way          2014   \n",
       "2485             Bill Burr: You People Are All the Same          2012   \n",
       "5040                         Jim Gaffigan: Mr. Universe          2012   \n",
       "\n",
       "            listed_in  \n",
       "2613  Stand-Up Comedy  \n",
       "1781  Stand-Up Comedy  \n",
       "2892  Stand-Up Comedy  \n",
       "3453  Stand-Up Comedy  \n",
       "773   Stand-Up Comedy  \n",
       "3237  Stand-Up Comedy  \n",
       "1580  Stand-Up Comedy  \n",
       "3193  Stand-Up Comedy  \n",
       "4839  Stand-Up Comedy  \n",
       "620   Stand-Up Comedy  \n",
       "5025  Stand-Up Comedy  \n",
       "4160  Stand-Up Comedy  \n",
       "2485  Stand-Up Comedy  \n",
       "5040  Stand-Up Comedy  "
      ]
     },
     "execution_count": 115,
     "metadata": {},
     "output_type": "execute_result"
    }
   ],
   "source": [
    "\n",
    "tag = \"jay karas\"\n",
    "netflix_data[\"relevant\"] =netflix_data['director'].fillna(\"\").apply(lambda x : 1 if tag in x.lower() else 0)\n",
    "small = netflix_data[netflix_data[\"relevant\"] == 1]\n",
    "small[['title', 'release_year', 'listed_in']].sort_values(by=\"release_year\",ascending=False)"
   ]
  },
  {
   "cell_type": "markdown",
   "metadata": {},
   "source": [
    " ### Indian TV Shows has added in last 10 years "
   ]
  },
  {
   "cell_type": "code",
   "execution_count": 116,
   "metadata": {},
   "outputs": [
    {
     "data": {
      "text/html": [
       "<div>\n",
       "<style scoped>\n",
       "    .dataframe tbody tr th:only-of-type {\n",
       "        vertical-align: middle;\n",
       "    }\n",
       "\n",
       "    .dataframe tbody tr th {\n",
       "        vertical-align: top;\n",
       "    }\n",
       "\n",
       "    .dataframe thead th {\n",
       "        text-align: right;\n",
       "    }\n",
       "</style>\n",
       "<table border=\"1\" class=\"dataframe\">\n",
       "  <thead>\n",
       "    <tr style=\"text-align: right;\">\n",
       "      <th></th>\n",
       "      <th>country</th>\n",
       "      <th>title</th>\n",
       "      <th>release_year</th>\n",
       "      <th>type</th>\n",
       "    </tr>\n",
       "  </thead>\n",
       "  <tbody>\n",
       "    <tr>\n",
       "      <th>2738</th>\n",
       "      <td>India</td>\n",
       "      <td>Jhansi Ki Rani</td>\n",
       "      <td>2009</td>\n",
       "      <td>TV Show</td>\n",
       "    </tr>\n",
       "    <tr>\n",
       "      <th>3964</th>\n",
       "      <td>India</td>\n",
       "      <td>Powder</td>\n",
       "      <td>2010</td>\n",
       "      <td>TV Show</td>\n",
       "    </tr>\n",
       "    <tr>\n",
       "      <th>2359</th>\n",
       "      <td>India</td>\n",
       "      <td>Mahi Way</td>\n",
       "      <td>2010</td>\n",
       "      <td>TV Show</td>\n",
       "    </tr>\n",
       "    <tr>\n",
       "      <th>2210</th>\n",
       "      <td>India</td>\n",
       "      <td>Rishta.com</td>\n",
       "      <td>2010</td>\n",
       "      <td>TV Show</td>\n",
       "    </tr>\n",
       "    <tr>\n",
       "      <th>2200</th>\n",
       "      <td>India</td>\n",
       "      <td>Khotey Sikkey</td>\n",
       "      <td>2011</td>\n",
       "      <td>TV Show</td>\n",
       "    </tr>\n",
       "    <tr>\n",
       "      <th>5538</th>\n",
       "      <td>India</td>\n",
       "      <td>Ramayan</td>\n",
       "      <td>2012</td>\n",
       "      <td>TV Show</td>\n",
       "    </tr>\n",
       "    <tr>\n",
       "      <th>1762</th>\n",
       "      <td>India</td>\n",
       "      <td>Classic Legends</td>\n",
       "      <td>2012</td>\n",
       "      <td>TV Show</td>\n",
       "    </tr>\n",
       "    <tr>\n",
       "      <th>5511</th>\n",
       "      <td>India</td>\n",
       "      <td>Bh Se Bhade</td>\n",
       "      <td>2013</td>\n",
       "      <td>TV Show</td>\n",
       "    </tr>\n",
       "    <tr>\n",
       "      <th>5547</th>\n",
       "      <td>India</td>\n",
       "      <td>Badalte Rishton Ki Dastaan</td>\n",
       "      <td>2013</td>\n",
       "      <td>TV Show</td>\n",
       "    </tr>\n",
       "    <tr>\n",
       "      <th>5561</th>\n",
       "      <td>India</td>\n",
       "      <td>Khelti Hai Zindagi Aankh Micholi</td>\n",
       "      <td>2013</td>\n",
       "      <td>TV Show</td>\n",
       "    </tr>\n",
       "    <tr>\n",
       "      <th>5420</th>\n",
       "      <td>India</td>\n",
       "      <td>Gangs of Hassepur</td>\n",
       "      <td>2014</td>\n",
       "      <td>TV Show</td>\n",
       "    </tr>\n",
       "    <tr>\n",
       "      <th>2795</th>\n",
       "      <td>India</td>\n",
       "      <td>Raja Rasoi Aur Anya Kahaniyan</td>\n",
       "      <td>2014</td>\n",
       "      <td>TV Show</td>\n",
       "    </tr>\n",
       "    <tr>\n",
       "      <th>2794</th>\n",
       "      <td>India</td>\n",
       "      <td>Dharmakshetra</td>\n",
       "      <td>2014</td>\n",
       "      <td>TV Show</td>\n",
       "    </tr>\n",
       "    <tr>\n",
       "      <th>5565</th>\n",
       "      <td>India</td>\n",
       "      <td>Maharakshak: Aryan</td>\n",
       "      <td>2014</td>\n",
       "      <td>TV Show</td>\n",
       "    </tr>\n",
       "    <tr>\n",
       "      <th>5923</th>\n",
       "      <td>India</td>\n",
       "      <td>Pyaar Tune Kya Kiya</td>\n",
       "      <td>2014</td>\n",
       "      <td>TV Show</td>\n",
       "    </tr>\n",
       "    <tr>\n",
       "      <th>1998</th>\n",
       "      <td>India</td>\n",
       "      <td>Th Eena Meena Deeka Chase Comedy Show</td>\n",
       "      <td>2015</td>\n",
       "      <td>TV Show</td>\n",
       "    </tr>\n",
       "    <tr>\n",
       "      <th>2333</th>\n",
       "      <td>India</td>\n",
       "      <td>Darr Sabko Lagta Hai</td>\n",
       "      <td>2015</td>\n",
       "      <td>TV Show</td>\n",
       "    </tr>\n",
       "    <tr>\n",
       "      <th>5421</th>\n",
       "      <td>India</td>\n",
       "      <td>Maharakshak Devi</td>\n",
       "      <td>2015</td>\n",
       "      <td>TV Show</td>\n",
       "    </tr>\n",
       "    <tr>\n",
       "      <th>5839</th>\n",
       "      <td>India</td>\n",
       "      <td>The House That Made Me</td>\n",
       "      <td>2015</td>\n",
       "      <td>TV Show</td>\n",
       "    </tr>\n",
       "    <tr>\n",
       "      <th>5416</th>\n",
       "      <td>India</td>\n",
       "      <td>Bhaage Re Mann</td>\n",
       "      <td>2015</td>\n",
       "      <td>TV Show</td>\n",
       "    </tr>\n",
       "    <tr>\n",
       "      <th>2734</th>\n",
       "      <td>India</td>\n",
       "      <td>Fear Files... Har Mod Pe Darr</td>\n",
       "      <td>2015</td>\n",
       "      <td>TV Show</td>\n",
       "    </tr>\n",
       "    <tr>\n",
       "      <th>5415</th>\n",
       "      <td>India</td>\n",
       "      <td>Agent Raghav</td>\n",
       "      <td>2015</td>\n",
       "      <td>TV Show</td>\n",
       "    </tr>\n",
       "    <tr>\n",
       "      <th>2796</th>\n",
       "      <td>India</td>\n",
       "      <td>Stories by Rabindranath Tagore</td>\n",
       "      <td>2015</td>\n",
       "      <td>TV Show</td>\n",
       "    </tr>\n",
       "    <tr>\n",
       "      <th>5567</th>\n",
       "      <td>India</td>\n",
       "      <td>Razia Sultan</td>\n",
       "      <td>2015</td>\n",
       "      <td>TV Show</td>\n",
       "    </tr>\n",
       "    <tr>\n",
       "      <th>2755</th>\n",
       "      <td>India</td>\n",
       "      <td>The Golden Years with Javed Akhtar</td>\n",
       "      <td>2016</td>\n",
       "      <td>TV Show</td>\n",
       "    </tr>\n",
       "    <tr>\n",
       "      <th>689</th>\n",
       "      <td>India</td>\n",
       "      <td>Devlok with Devdutt Pattanaik</td>\n",
       "      <td>2017</td>\n",
       "      <td>TV Show</td>\n",
       "    </tr>\n",
       "    <tr>\n",
       "      <th>804</th>\n",
       "      <td>India</td>\n",
       "      <td>Inmates</td>\n",
       "      <td>2017</td>\n",
       "      <td>TV Show</td>\n",
       "    </tr>\n",
       "    <tr>\n",
       "      <th>5867</th>\n",
       "      <td>India</td>\n",
       "      <td>Sab Jholmaal Hai</td>\n",
       "      <td>2017</td>\n",
       "      <td>TV Show</td>\n",
       "    </tr>\n",
       "    <tr>\n",
       "      <th>4799</th>\n",
       "      <td>India</td>\n",
       "      <td>Yeh Meri Family</td>\n",
       "      <td>2018</td>\n",
       "      <td>TV Show</td>\n",
       "    </tr>\n",
       "    <tr>\n",
       "      <th>5070</th>\n",
       "      <td>India</td>\n",
       "      <td>Regiment Diaries</td>\n",
       "      <td>2018</td>\n",
       "      <td>TV Show</td>\n",
       "    </tr>\n",
       "    <tr>\n",
       "      <th>4858</th>\n",
       "      <td>India</td>\n",
       "      <td>GHOUL</td>\n",
       "      <td>2018</td>\n",
       "      <td>TV Show</td>\n",
       "    </tr>\n",
       "    <tr>\n",
       "      <th>4644</th>\n",
       "      <td>India</td>\n",
       "      <td>21 Sarfarosh: Saragarhi 1897</td>\n",
       "      <td>2018</td>\n",
       "      <td>TV Show</td>\n",
       "    </tr>\n",
       "    <tr>\n",
       "      <th>793</th>\n",
       "      <td>India</td>\n",
       "      <td>Engineering Girls</td>\n",
       "      <td>2018</td>\n",
       "      <td>TV Show</td>\n",
       "    </tr>\n",
       "    <tr>\n",
       "      <th>4321</th>\n",
       "      <td>India</td>\n",
       "      <td>Selection Day</td>\n",
       "      <td>2018</td>\n",
       "      <td>TV Show</td>\n",
       "    </tr>\n",
       "    <tr>\n",
       "      <th>789</th>\n",
       "      <td>India</td>\n",
       "      <td>College Romance</td>\n",
       "      <td>2018</td>\n",
       "      <td>TV Show</td>\n",
       "    </tr>\n",
       "    <tr>\n",
       "      <th>797</th>\n",
       "      <td>India</td>\n",
       "      <td>Girls Hostel</td>\n",
       "      <td>2018</td>\n",
       "      <td>TV Show</td>\n",
       "    </tr>\n",
       "    <tr>\n",
       "      <th>5481</th>\n",
       "      <td>India</td>\n",
       "      <td>Midnight Misadventures With Mallika Dua</td>\n",
       "      <td>2018</td>\n",
       "      <td>TV Show</td>\n",
       "    </tr>\n",
       "    <tr>\n",
       "      <th>2718</th>\n",
       "      <td>India</td>\n",
       "      <td>Gabru: Hip Hop Revolution</td>\n",
       "      <td>2018</td>\n",
       "      <td>TV Show</td>\n",
       "    </tr>\n",
       "    <tr>\n",
       "      <th>1838</th>\n",
       "      <td>India</td>\n",
       "      <td>Anjaan: Special Crimes Unit</td>\n",
       "      <td>2018</td>\n",
       "      <td>TV Show</td>\n",
       "    </tr>\n",
       "    <tr>\n",
       "      <th>1850</th>\n",
       "      <td>India</td>\n",
       "      <td>Khan: No. 1 Crime Hunter</td>\n",
       "      <td>2018</td>\n",
       "      <td>TV Show</td>\n",
       "    </tr>\n",
       "    <tr>\n",
       "      <th>4511</th>\n",
       "      <td>India</td>\n",
       "      <td>Anjaan: Rural Myths</td>\n",
       "      <td>2018</td>\n",
       "      <td>TV Show</td>\n",
       "    </tr>\n",
       "    <tr>\n",
       "      <th>5492</th>\n",
       "      <td>India</td>\n",
       "      <td>The Calling</td>\n",
       "      <td>2018</td>\n",
       "      <td>TV Show</td>\n",
       "    </tr>\n",
       "    <tr>\n",
       "      <th>5708</th>\n",
       "      <td>India</td>\n",
       "      <td>Little Things</td>\n",
       "      <td>2019</td>\n",
       "      <td>TV Show</td>\n",
       "    </tr>\n",
       "    <tr>\n",
       "      <th>99</th>\n",
       "      <td>India</td>\n",
       "      <td>Bard of Blood</td>\n",
       "      <td>2019</td>\n",
       "      <td>TV Show</td>\n",
       "    </tr>\n",
       "    <tr>\n",
       "      <th>3023</th>\n",
       "      <td>India</td>\n",
       "      <td>Chhota Bheem</td>\n",
       "      <td>2019</td>\n",
       "      <td>TV Show</td>\n",
       "    </tr>\n",
       "    <tr>\n",
       "      <th>2922</th>\n",
       "      <td>India</td>\n",
       "      <td>Typewriter</td>\n",
       "      <td>2019</td>\n",
       "      <td>TV Show</td>\n",
       "    </tr>\n",
       "    <tr>\n",
       "      <th>2661</th>\n",
       "      <td>India</td>\n",
       "      <td>Leila</td>\n",
       "      <td>2019</td>\n",
       "      <td>TV Show</td>\n",
       "    </tr>\n",
       "    <tr>\n",
       "      <th>2297</th>\n",
       "      <td>India</td>\n",
       "      <td>Cricket Fever: Mumbai Indians</td>\n",
       "      <td>2019</td>\n",
       "      <td>TV Show</td>\n",
       "    </tr>\n",
       "    <tr>\n",
       "      <th>2090</th>\n",
       "      <td>India</td>\n",
       "      <td>Delhi Crime</td>\n",
       "      <td>2019</td>\n",
       "      <td>TV Show</td>\n",
       "    </tr>\n",
       "    <tr>\n",
       "      <th>1653</th>\n",
       "      <td>India</td>\n",
       "      <td>Thackeray</td>\n",
       "      <td>2019</td>\n",
       "      <td>TV Show</td>\n",
       "    </tr>\n",
       "    <tr>\n",
       "      <th>648</th>\n",
       "      <td>India</td>\n",
       "      <td>Mighty Little Bheem: Diwali</td>\n",
       "      <td>2019</td>\n",
       "      <td>TV Show</td>\n",
       "    </tr>\n",
       "    <tr>\n",
       "      <th>2808</th>\n",
       "      <td>India</td>\n",
       "      <td>7 (Seven)</td>\n",
       "      <td>2019</td>\n",
       "      <td>TV Show</td>\n",
       "    </tr>\n",
       "    <tr>\n",
       "      <th>3466</th>\n",
       "      <td>India</td>\n",
       "      <td>Jamtara - Sabka Number Ayega</td>\n",
       "      <td>2020</td>\n",
       "      <td>TV Show</td>\n",
       "    </tr>\n",
       "  </tbody>\n",
       "</table>\n",
       "</div>"
      ],
      "text/plain": [
       "     country                                    title  release_year     type\n",
       "2738   India                           Jhansi Ki Rani          2009  TV Show\n",
       "3964   India                                   Powder          2010  TV Show\n",
       "2359   India                                 Mahi Way          2010  TV Show\n",
       "2210   India                               Rishta.com          2010  TV Show\n",
       "2200   India                            Khotey Sikkey          2011  TV Show\n",
       "5538   India                                  Ramayan          2012  TV Show\n",
       "1762   India                          Classic Legends          2012  TV Show\n",
       "5511   India                              Bh Se Bhade          2013  TV Show\n",
       "5547   India               Badalte Rishton Ki Dastaan          2013  TV Show\n",
       "5561   India         Khelti Hai Zindagi Aankh Micholi          2013  TV Show\n",
       "5420   India                        Gangs of Hassepur          2014  TV Show\n",
       "2795   India            Raja Rasoi Aur Anya Kahaniyan          2014  TV Show\n",
       "2794   India                            Dharmakshetra          2014  TV Show\n",
       "5565   India                       Maharakshak: Aryan          2014  TV Show\n",
       "5923   India                      Pyaar Tune Kya Kiya          2014  TV Show\n",
       "1998   India    Th Eena Meena Deeka Chase Comedy Show          2015  TV Show\n",
       "2333   India                     Darr Sabko Lagta Hai          2015  TV Show\n",
       "5421   India                         Maharakshak Devi          2015  TV Show\n",
       "5839   India                   The House That Made Me          2015  TV Show\n",
       "5416   India                           Bhaage Re Mann          2015  TV Show\n",
       "2734   India            Fear Files... Har Mod Pe Darr          2015  TV Show\n",
       "5415   India                             Agent Raghav          2015  TV Show\n",
       "2796   India           Stories by Rabindranath Tagore          2015  TV Show\n",
       "5567   India                             Razia Sultan          2015  TV Show\n",
       "2755   India       The Golden Years with Javed Akhtar          2016  TV Show\n",
       "689    India            Devlok with Devdutt Pattanaik          2017  TV Show\n",
       "804    India                                  Inmates          2017  TV Show\n",
       "5867   India                         Sab Jholmaal Hai          2017  TV Show\n",
       "4799   India                          Yeh Meri Family          2018  TV Show\n",
       "5070   India                         Regiment Diaries          2018  TV Show\n",
       "4858   India                                    GHOUL          2018  TV Show\n",
       "4644   India             21 Sarfarosh: Saragarhi 1897          2018  TV Show\n",
       "793    India                        Engineering Girls          2018  TV Show\n",
       "4321   India                            Selection Day          2018  TV Show\n",
       "789    India                          College Romance          2018  TV Show\n",
       "797    India                             Girls Hostel          2018  TV Show\n",
       "5481   India  Midnight Misadventures With Mallika Dua          2018  TV Show\n",
       "2718   India                Gabru: Hip Hop Revolution          2018  TV Show\n",
       "1838   India              Anjaan: Special Crimes Unit          2018  TV Show\n",
       "1850   India                 Khan: No. 1 Crime Hunter          2018  TV Show\n",
       "4511   India                      Anjaan: Rural Myths          2018  TV Show\n",
       "5492   India                              The Calling          2018  TV Show\n",
       "5708   India                            Little Things          2019  TV Show\n",
       "99     India                            Bard of Blood          2019  TV Show\n",
       "3023   India                             Chhota Bheem          2019  TV Show\n",
       "2922   India                               Typewriter          2019  TV Show\n",
       "2661   India                                    Leila          2019  TV Show\n",
       "2297   India            Cricket Fever: Mumbai Indians          2019  TV Show\n",
       "2090   India                              Delhi Crime          2019  TV Show\n",
       "1653   India                                Thackeray          2019  TV Show\n",
       "648    India              Mighty Little Bheem: Diwali          2019  TV Show\n",
       "2808   India                                7 (Seven)          2019  TV Show\n",
       "3466   India             Jamtara - Sabka Number Ayega          2020  TV Show"
      ]
     },
     "execution_count": 116,
     "metadata": {},
     "output_type": "execute_result"
    }
   ],
   "source": [
    "indian_show=netflix_data.loc[(netflix_data.type==\"TV Show\") &  (netflix_data.country==\"India\")].sort_values(by=\"release_year\")\n",
    "indian_show[['country','title', 'release_year', 'type']]\n"
   ]
  },
  {
   "cell_type": "markdown",
   "metadata": {},
   "source": [
    "### Available Indain movies on Netflix"
   ]
  },
  {
   "cell_type": "code",
   "execution_count": 117,
   "metadata": {},
   "outputs": [
    {
     "data": {
      "text/html": [
       "<div>\n",
       "<style scoped>\n",
       "    .dataframe tbody tr th:only-of-type {\n",
       "        vertical-align: middle;\n",
       "    }\n",
       "\n",
       "    .dataframe tbody tr th {\n",
       "        vertical-align: top;\n",
       "    }\n",
       "\n",
       "    .dataframe thead th {\n",
       "        text-align: right;\n",
       "    }\n",
       "</style>\n",
       "<table border=\"1\" class=\"dataframe\">\n",
       "  <thead>\n",
       "    <tr style=\"text-align: right;\">\n",
       "      <th></th>\n",
       "      <th>title</th>\n",
       "      <th>release_year</th>\n",
       "      <th>listed_in</th>\n",
       "      <th>country</th>\n",
       "      <th>director</th>\n",
       "    </tr>\n",
       "  </thead>\n",
       "  <tbody>\n",
       "    <tr>\n",
       "      <th>713</th>\n",
       "      <td>Ujala</td>\n",
       "      <td>1959</td>\n",
       "      <td>Dramas, International Movies</td>\n",
       "      <td>India</td>\n",
       "      <td>Naresh Saigal</td>\n",
       "    </tr>\n",
       "    <tr>\n",
       "      <th>3153</th>\n",
       "      <td>Professor</td>\n",
       "      <td>1962</td>\n",
       "      <td>Comedies, Dramas, International Movies</td>\n",
       "      <td>India</td>\n",
       "      <td>Lekh Tandon</td>\n",
       "    </tr>\n",
       "    <tr>\n",
       "      <th>4227</th>\n",
       "      <td>Sangam</td>\n",
       "      <td>1964</td>\n",
       "      <td>Classic Movies, Dramas, International Movies</td>\n",
       "      <td>India</td>\n",
       "      <td>Raj Kapoor</td>\n",
       "    </tr>\n",
       "    <tr>\n",
       "      <th>3138</th>\n",
       "      <td>Amrapali</td>\n",
       "      <td>1966</td>\n",
       "      <td>Dramas, International Movies, Music &amp; Musicals</td>\n",
       "      <td>India</td>\n",
       "      <td>Lekh Tandon</td>\n",
       "    </tr>\n",
       "    <tr>\n",
       "      <th>2749</th>\n",
       "      <td>Prince</td>\n",
       "      <td>1969</td>\n",
       "      <td>Dramas, International Movies, Romantic Movies</td>\n",
       "      <td>India</td>\n",
       "      <td>Lekh Tandon</td>\n",
       "    </tr>\n",
       "    <tr>\n",
       "      <th>...</th>\n",
       "      <td>...</td>\n",
       "      <td>...</td>\n",
       "      <td>...</td>\n",
       "      <td>...</td>\n",
       "      <td>...</td>\n",
       "    </tr>\n",
       "    <tr>\n",
       "      <th>1268</th>\n",
       "      <td>House Arrest</td>\n",
       "      <td>2019</td>\n",
       "      <td>Comedies, Independent Movies, International Mo...</td>\n",
       "      <td>India</td>\n",
       "      <td>Shashanka Ghosh, Samit Basu</td>\n",
       "    </tr>\n",
       "    <tr>\n",
       "      <th>1267</th>\n",
       "      <td>Guna 369</td>\n",
       "      <td>2019</td>\n",
       "      <td>Action &amp; Adventure, Dramas, International Movies</td>\n",
       "      <td>India</td>\n",
       "      <td>Arjun Jandyala</td>\n",
       "    </tr>\n",
       "    <tr>\n",
       "      <th>2484</th>\n",
       "      <td>Romeo Akbar Walter</td>\n",
       "      <td>2019</td>\n",
       "      <td>Dramas, International Movies, Thrillers</td>\n",
       "      <td>India</td>\n",
       "      <td>Robbie Grewal</td>\n",
       "    </tr>\n",
       "    <tr>\n",
       "      <th>35</th>\n",
       "      <td>Article 15</td>\n",
       "      <td>2019</td>\n",
       "      <td>Dramas, International Movies, Thrillers</td>\n",
       "      <td>India</td>\n",
       "      <td>Anubhav Sinha</td>\n",
       "    </tr>\n",
       "    <tr>\n",
       "      <th>3518</th>\n",
       "      <td>Ghost Stories</td>\n",
       "      <td>2020</td>\n",
       "      <td>Horror Movies, International Movies, Thrillers</td>\n",
       "      <td>India</td>\n",
       "      <td>Anurag Kashyap, Dibakar Banerjee, Karan Johar,...</td>\n",
       "    </tr>\n",
       "  </tbody>\n",
       "</table>\n",
       "<p>724 rows × 5 columns</p>\n",
       "</div>"
      ],
      "text/plain": [
       "                   title  release_year  \\\n",
       "713                Ujala          1959   \n",
       "3153           Professor          1962   \n",
       "4227              Sangam          1964   \n",
       "3138            Amrapali          1966   \n",
       "2749              Prince          1969   \n",
       "...                  ...           ...   \n",
       "1268        House Arrest          2019   \n",
       "1267            Guna 369          2019   \n",
       "2484  Romeo Akbar Walter          2019   \n",
       "35            Article 15          2019   \n",
       "3518       Ghost Stories          2020   \n",
       "\n",
       "                                              listed_in country  \\\n",
       "713                        Dramas, International Movies   India   \n",
       "3153             Comedies, Dramas, International Movies   India   \n",
       "4227       Classic Movies, Dramas, International Movies   India   \n",
       "3138     Dramas, International Movies, Music & Musicals   India   \n",
       "2749      Dramas, International Movies, Romantic Movies   India   \n",
       "...                                                 ...     ...   \n",
       "1268  Comedies, Independent Movies, International Mo...   India   \n",
       "1267   Action & Adventure, Dramas, International Movies   India   \n",
       "2484            Dramas, International Movies, Thrillers   India   \n",
       "35              Dramas, International Movies, Thrillers   India   \n",
       "3518     Horror Movies, International Movies, Thrillers   India   \n",
       "\n",
       "                                               director  \n",
       "713                                       Naresh Saigal  \n",
       "3153                                        Lekh Tandon  \n",
       "4227                                         Raj Kapoor  \n",
       "3138                                        Lekh Tandon  \n",
       "2749                                        Lekh Tandon  \n",
       "...                                                 ...  \n",
       "1268                        Shashanka Ghosh, Samit Basu  \n",
       "1267                                     Arjun Jandyala  \n",
       "2484                                      Robbie Grewal  \n",
       "35                                        Anubhav Sinha  \n",
       "3518  Anurag Kashyap, Dibakar Banerjee, Karan Johar,...  \n",
       "\n",
       "[724 rows x 5 columns]"
      ]
     },
     "execution_count": 117,
     "metadata": {},
     "output_type": "execute_result"
    }
   ],
   "source": [
    "Indian_movie=netflix_data.loc[(netflix_data.type==\"Movie\") &  (netflix_data.country==\"India\")].sort_values(by=\"release_year\")\n",
    "Indian_movie[['title', 'release_year', 'listed_in','country','director']]\n"
   ]
  },
  {
   "cell_type": "code",
   "execution_count": null,
   "metadata": {},
   "outputs": [],
   "source": []
  },
  {
   "cell_type": "code",
   "execution_count": null,
   "metadata": {},
   "outputs": [],
   "source": []
  }
 ],
 "metadata": {
  "kernelspec": {
   "display_name": "Python 3",
   "language": "python",
   "name": "python3"
  },
  "language_info": {
   "codemirror_mode": {
    "name": "ipython",
    "version": 3
   },
   "file_extension": ".py",
   "mimetype": "text/x-python",
   "name": "python",
   "nbconvert_exporter": "python",
   "pygments_lexer": "ipython3",
   "version": "3.7.6"
  }
 },
 "nbformat": 4,
 "nbformat_minor": 4
}
